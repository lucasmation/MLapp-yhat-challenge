{
 "cells": [
  {
   "cell_type": "code",
   "execution_count": 1,
   "metadata": {},
   "outputs": [
    {
     "name": "stdout",
     "output_type": "stream",
     "text": [
      "\u001b[34m1data\u001b[m\u001b[m/\r\n",
      "ML Prediction Challenge Instructions.pdf\r\n",
      "MLapp-yhat-challenge.Rproj\r\n",
      "Part1.ipynb\r\n",
      "Part1.pdf\r\n",
      "Prediction_challenge_raw.cdb\r\n",
      "Untitled.ipynb\r\n",
      "Variable info.xlsx\r\n",
      "dicionary.csv\r\n",
      "nlsy training set.csv\r\n",
      "prediction_in_R.R\r\n",
      "~$Variable info.xlsx\r\n"
     ]
    }
   ],
   "source": []
  }
 ],
 "metadata": {
  "kernelspec": {
   "display_name": "Python 3",
   "language": "python",
   "name": "python3"
  },
  "language_info": {
   "codemirror_mode": {
    "name": "ipython",
    "version": 3
   },
   "file_extension": ".py",
   "mimetype": "text/x-python",
   "name": "python",
   "nbconvert_exporter": "python",
   "pygments_lexer": "ipython3",
   "version": "3.7.4"
  }
 },
 "nbformat": 4,
 "nbformat_minor": 2
}
